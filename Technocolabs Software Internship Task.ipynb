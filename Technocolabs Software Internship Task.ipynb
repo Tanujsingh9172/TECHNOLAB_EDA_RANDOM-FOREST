{
 "cells": [
  {
   "cell_type": "markdown",
   "metadata": {
    "pycharm": {
     "name": "#%% md\n"
    }
   },
   "source": [
    "# Classification of Work Visa Approval"
   ]
  },
  {
   "cell_type": "markdown",
   "metadata": {},
   "source": [
    "# TECHNOLAB SOFTWARE INTERNSHIP"
   ]
  },
  {
   "cell_type": "markdown",
   "metadata": {},
   "source": [
    "### Completed EDA and applied Logistic Regression, and Random forest machine learning algorithms."
   ]
  },
  {
   "cell_type": "markdown",
   "metadata": {},
   "source": [
    "# TASK BY TANUJ"
   ]
  },
  {
   "cell_type": "code",
   "execution_count": 60,
   "metadata": {
    "pycharm": {
     "name": "#%%\n"
    }
   },
   "outputs": [],
   "source": [
    "# Importing required libraries\n",
    "\n",
    "import pandas as pd\n",
    "import numpy as np\n",
    "from sklearn.model_selection import train_test_split\n",
    "from sklearn.linear_model import LogisticRegression\n",
    "from sklearn.metrics import confusion_matrix\n",
    "from sklearn.metrics import accuracy_score\n",
    "from sklearn.preprocessing import LabelEncoder\n",
    "from sklearn.ensemble import RandomForestClassifier\n",
    "import seaborn as sns\n",
    "from sklearn import metrics\n",
    "import matplotlib.pyplot as plt"
   ]
  },
  {
   "cell_type": "code",
   "execution_count": 61,
   "metadata": {
    "pycharm": {
     "name": "#%%\n"
    }
   },
   "outputs": [
    {
     "name": "stderr",
     "output_type": "stream",
     "text": [
      "C:\\Users\\aakash\\anaconda2download\\lib\\site-packages\\IPython\\core\\interactiveshell.py:3251: DtypeWarning: Columns (0,1,5,6,7,8,9,13,14,19,31,45,53,55,66,76,87,97,108,129,150,160,171,192,213,223,234,244,254,255,256) have mixed types.Specify dtype option on import or set low_memory=False.\n",
      "  exec(code_obj, self.user_global_ns, self.user_ns)\n"
     ]
    }
   ],
   "source": [
    "#In the given dataset, there are 1048547 rows, and 260 columns.\n",
    "#But only the below 48 columns were considered.\n",
    "\n",
    "visa_data = pd.read_csv('visaexcel01.csv', usecols=['CASE_NUMBER','CASE_STATUS', 'VISA_CLASS', 'EMPLOYER_NAME', 'AGENT_REPRESENTING_EMPLOYER', 'JOB_TITLE', 'SOC_TITLE', 'SOC_CODE', 'NAICS_CODE', 'NEW_EMPLOYMENT','CONTINUED_EMPLOYMENT', 'CHANGE_PREVIOUS_EMPLOYMENT', 'NEW_CONCURRENT_EMPLOYMENT', 'CHANGE_EMPLOYER', 'AMENDED_PETITION', 'H-1B_DEPENDENT', 'SUPPORT_H1B', 'WILLFUL_VIOLATOR', 'TOTAL_WORKER_POSITIONS', 'FULL_TIME_POSITION', 'SECONDARY_ENTITY_1','SECONDARY_ENTITY_2','SECONDARY_ENTITY_3','SECONDARY_ENTITY_4', 'SECONDARY_ENTITY_5','SECONDARY_ENTITY_6', 'SECONDARY_ENTITY_7', 'SECONDARY_ENTITY_8', 'SECONDARY_ENTITY_9', 'SECONDARY_ENTITY_10', 'WAGE_RATE_OF_PAY_FROM_1', 'WAGE_RATE_OF_PAY_FROM_2', 'WAGE_RATE_OF_PAY_FROM_3', 'WAGE_RATE_OF_PAY_FROM_4', 'WAGE_RATE_OF_PAY_FROM_5', 'WAGE_RATE_OF_PAY_FROM_6', 'WAGE_RATE_OF_PAY_FROM_7', 'WAGE_RATE_OF_PAY_FROM_8', 'WAGE_RATE_OF_PAY_FROM_9', 'WAGE_RATE_OF_PAY_FROM_10', 'WAGE_UNIT_OF_PAY_1', 'WAGE_UNIT_OF_PAY_2', 'WAGE_UNIT_OF_PAY_2',  'WAGE_UNIT_OF_PAY_3', 'WAGE_UNIT_OF_PAY_4', 'WAGE_UNIT_OF_PAY_5', 'WAGE_UNIT_OF_PAY_6', 'WAGE_UNIT_OF_PAY_7', 'WAGE_UNIT_OF_PAY_8', 'WAGE_UNIT_OF_PAY_9', 'WAGE_UNIT_OF_PAY_10'])"
   ]
  },
  {
   "cell_type": "code",
   "execution_count": 62,
   "metadata": {
    "pycharm": {
     "name": "#%%\n"
    }
   },
   "outputs": [
    {
     "data": {
      "text/html": [
       "<div>\n",
       "<style scoped>\n",
       "    .dataframe tbody tr th:only-of-type {\n",
       "        vertical-align: middle;\n",
       "    }\n",
       "\n",
       "    .dataframe tbody tr th {\n",
       "        vertical-align: top;\n",
       "    }\n",
       "\n",
       "    .dataframe thead th {\n",
       "        text-align: right;\n",
       "    }\n",
       "</style>\n",
       "<table border=\"1\" class=\"dataframe\">\n",
       "  <thead>\n",
       "    <tr style=\"text-align: right;\">\n",
       "      <th></th>\n",
       "      <th>CASE_NUMBER</th>\n",
       "      <th>CASE_STATUS</th>\n",
       "      <th>VISA_CLASS</th>\n",
       "      <th>JOB_TITLE</th>\n",
       "      <th>SOC_CODE</th>\n",
       "      <th>SOC_TITLE</th>\n",
       "      <th>FULL_TIME_POSITION</th>\n",
       "      <th>TOTAL_WORKER_POSITIONS</th>\n",
       "      <th>NEW_EMPLOYMENT</th>\n",
       "      <th>CONTINUED_EMPLOYMENT</th>\n",
       "      <th>...</th>\n",
       "      <th>WAGE_UNIT_OF_PAY_8</th>\n",
       "      <th>SECONDARY_ENTITY_9</th>\n",
       "      <th>WAGE_RATE_OF_PAY_FROM_9</th>\n",
       "      <th>WAGE_UNIT_OF_PAY_9</th>\n",
       "      <th>SECONDARY_ENTITY_10</th>\n",
       "      <th>WAGE_RATE_OF_PAY_FROM_10</th>\n",
       "      <th>WAGE_UNIT_OF_PAY_10</th>\n",
       "      <th>H-1B_DEPENDENT</th>\n",
       "      <th>WILLFUL_VIOLATOR</th>\n",
       "      <th>SUPPORT_H1B</th>\n",
       "    </tr>\n",
       "  </thead>\n",
       "  <tbody>\n",
       "    <tr>\n",
       "      <th>0</th>\n",
       "      <td>I-200-16092-327771</td>\n",
       "      <td>WITHDRAWN</td>\n",
       "      <td>H-1B</td>\n",
       "      <td>ASSOCIATE CREATIVE DIRECTOR</td>\n",
       "      <td>11-2011</td>\n",
       "      <td>ADVERTISING AND PROMOTIONS MANAGERS</td>\n",
       "      <td>Y</td>\n",
       "      <td>1.0</td>\n",
       "      <td>0</td>\n",
       "      <td>1</td>\n",
       "      <td>...</td>\n",
       "      <td>NaN</td>\n",
       "      <td>NaN</td>\n",
       "      <td>NaN</td>\n",
       "      <td>NaN</td>\n",
       "      <td>NaN</td>\n",
       "      <td>NaN</td>\n",
       "      <td>NaN</td>\n",
       "      <td>N</td>\n",
       "      <td>N</td>\n",
       "      <td>NaN</td>\n",
       "    </tr>\n",
       "    <tr>\n",
       "      <th>1</th>\n",
       "      <td>I-203-17188-450729</td>\n",
       "      <td>WITHDRAWN</td>\n",
       "      <td>E-3 Australian</td>\n",
       "      <td>ACCOUNT SUPERVISOR (MOTHER)</td>\n",
       "      <td>11-2011</td>\n",
       "      <td>ADVERTISING AND PROMOTIONS MANAGERS</td>\n",
       "      <td>Y</td>\n",
       "      <td>1.0</td>\n",
       "      <td>0</td>\n",
       "      <td>1</td>\n",
       "      <td>...</td>\n",
       "      <td>NaN</td>\n",
       "      <td>NaN</td>\n",
       "      <td>NaN</td>\n",
       "      <td>NaN</td>\n",
       "      <td>NaN</td>\n",
       "      <td>NaN</td>\n",
       "      <td>NaN</td>\n",
       "      <td>NaN</td>\n",
       "      <td>NaN</td>\n",
       "      <td>NaN</td>\n",
       "    </tr>\n",
       "    <tr>\n",
       "      <th>2</th>\n",
       "      <td>I-203-17229-572307</td>\n",
       "      <td>WITHDRAWN</td>\n",
       "      <td>E-3 Australian</td>\n",
       "      <td>EXECUTIVE CREATIVE DIRECTOR</td>\n",
       "      <td>11-2011</td>\n",
       "      <td>ADVERTISING AND PROMOTIONS MANAGERS</td>\n",
       "      <td>Y</td>\n",
       "      <td>1.0</td>\n",
       "      <td>0</td>\n",
       "      <td>0</td>\n",
       "      <td>...</td>\n",
       "      <td>NaN</td>\n",
       "      <td>NaN</td>\n",
       "      <td>NaN</td>\n",
       "      <td>NaN</td>\n",
       "      <td>NaN</td>\n",
       "      <td>NaN</td>\n",
       "      <td>NaN</td>\n",
       "      <td>NaN</td>\n",
       "      <td>NaN</td>\n",
       "      <td>NaN</td>\n",
       "    </tr>\n",
       "    <tr>\n",
       "      <th>3</th>\n",
       "      <td>I-203-17356-299648</td>\n",
       "      <td>WITHDRAWN</td>\n",
       "      <td>E-3 Australian</td>\n",
       "      <td>PROJECT MANAGEMENT LEAD</td>\n",
       "      <td>11-2011</td>\n",
       "      <td>ADVERTISING AND PROMOTIONS MANAGERS</td>\n",
       "      <td>Y</td>\n",
       "      <td>1.0</td>\n",
       "      <td>0</td>\n",
       "      <td>0</td>\n",
       "      <td>...</td>\n",
       "      <td>NaN</td>\n",
       "      <td>NaN</td>\n",
       "      <td>NaN</td>\n",
       "      <td>NaN</td>\n",
       "      <td>NaN</td>\n",
       "      <td>NaN</td>\n",
       "      <td>NaN</td>\n",
       "      <td>NaN</td>\n",
       "      <td>NaN</td>\n",
       "      <td>NaN</td>\n",
       "    </tr>\n",
       "    <tr>\n",
       "      <th>4</th>\n",
       "      <td>I-203-18008-577576</td>\n",
       "      <td>WITHDRAWN</td>\n",
       "      <td>E-3 Australian</td>\n",
       "      <td>CREATIVE DIRECTOR, UX</td>\n",
       "      <td>11-2011</td>\n",
       "      <td>ADVERTISING AND PROMOTIONS MANAGERS</td>\n",
       "      <td>Y</td>\n",
       "      <td>1.0</td>\n",
       "      <td>0</td>\n",
       "      <td>0</td>\n",
       "      <td>...</td>\n",
       "      <td>NaN</td>\n",
       "      <td>NaN</td>\n",
       "      <td>NaN</td>\n",
       "      <td>NaN</td>\n",
       "      <td>NaN</td>\n",
       "      <td>NaN</td>\n",
       "      <td>NaN</td>\n",
       "      <td>NaN</td>\n",
       "      <td>NaN</td>\n",
       "      <td>NaN</td>\n",
       "    </tr>\n",
       "    <tr>\n",
       "      <th>...</th>\n",
       "      <td>...</td>\n",
       "      <td>...</td>\n",
       "      <td>...</td>\n",
       "      <td>...</td>\n",
       "      <td>...</td>\n",
       "      <td>...</td>\n",
       "      <td>...</td>\n",
       "      <td>...</td>\n",
       "      <td>...</td>\n",
       "      <td>...</td>\n",
       "      <td>...</td>\n",
       "      <td>...</td>\n",
       "      <td>...</td>\n",
       "      <td>...</td>\n",
       "      <td>...</td>\n",
       "      <td>...</td>\n",
       "      <td>...</td>\n",
       "      <td>...</td>\n",
       "      <td>...</td>\n",
       "      <td>...</td>\n",
       "      <td>...</td>\n",
       "    </tr>\n",
       "    <tr>\n",
       "      <th>1048542</th>\n",
       "      <td>NaN</td>\n",
       "      <td>NaN</td>\n",
       "      <td>NaN</td>\n",
       "      <td>NaN</td>\n",
       "      <td>NaN</td>\n",
       "      <td>NaN</td>\n",
       "      <td>NaN</td>\n",
       "      <td>NaN</td>\n",
       "      <td>NaN</td>\n",
       "      <td>NaN</td>\n",
       "      <td>...</td>\n",
       "      <td>NaN</td>\n",
       "      <td>NaN</td>\n",
       "      <td>NaN</td>\n",
       "      <td>NaN</td>\n",
       "      <td>NaN</td>\n",
       "      <td>NaN</td>\n",
       "      <td>NaN</td>\n",
       "      <td>NaN</td>\n",
       "      <td>NaN</td>\n",
       "      <td>NaN</td>\n",
       "    </tr>\n",
       "    <tr>\n",
       "      <th>1048543</th>\n",
       "      <td>NaN</td>\n",
       "      <td>NaN</td>\n",
       "      <td>NaN</td>\n",
       "      <td>NaN</td>\n",
       "      <td>NaN</td>\n",
       "      <td>NaN</td>\n",
       "      <td>NaN</td>\n",
       "      <td>NaN</td>\n",
       "      <td>NaN</td>\n",
       "      <td>NaN</td>\n",
       "      <td>...</td>\n",
       "      <td>NaN</td>\n",
       "      <td>NaN</td>\n",
       "      <td>NaN</td>\n",
       "      <td>NaN</td>\n",
       "      <td>NaN</td>\n",
       "      <td>NaN</td>\n",
       "      <td>NaN</td>\n",
       "      <td>NaN</td>\n",
       "      <td>NaN</td>\n",
       "      <td>NaN</td>\n",
       "    </tr>\n",
       "    <tr>\n",
       "      <th>1048544</th>\n",
       "      <td>NaN</td>\n",
       "      <td>NaN</td>\n",
       "      <td>NaN</td>\n",
       "      <td>NaN</td>\n",
       "      <td>NaN</td>\n",
       "      <td>NaN</td>\n",
       "      <td>NaN</td>\n",
       "      <td>NaN</td>\n",
       "      <td>NaN</td>\n",
       "      <td>NaN</td>\n",
       "      <td>...</td>\n",
       "      <td>NaN</td>\n",
       "      <td>NaN</td>\n",
       "      <td>NaN</td>\n",
       "      <td>NaN</td>\n",
       "      <td>NaN</td>\n",
       "      <td>NaN</td>\n",
       "      <td>NaN</td>\n",
       "      <td>NaN</td>\n",
       "      <td>NaN</td>\n",
       "      <td>NaN</td>\n",
       "    </tr>\n",
       "    <tr>\n",
       "      <th>1048545</th>\n",
       "      <td>NaN</td>\n",
       "      <td>NaN</td>\n",
       "      <td>NaN</td>\n",
       "      <td>NaN</td>\n",
       "      <td>NaN</td>\n",
       "      <td>NaN</td>\n",
       "      <td>NaN</td>\n",
       "      <td>NaN</td>\n",
       "      <td>NaN</td>\n",
       "      <td>NaN</td>\n",
       "      <td>...</td>\n",
       "      <td>NaN</td>\n",
       "      <td>NaN</td>\n",
       "      <td>NaN</td>\n",
       "      <td>NaN</td>\n",
       "      <td>NaN</td>\n",
       "      <td>NaN</td>\n",
       "      <td>NaN</td>\n",
       "      <td>NaN</td>\n",
       "      <td>NaN</td>\n",
       "      <td>NaN</td>\n",
       "    </tr>\n",
       "    <tr>\n",
       "      <th>1048546</th>\n",
       "      <td>NaN</td>\n",
       "      <td>NaN</td>\n",
       "      <td>NaN</td>\n",
       "      <td>NaN</td>\n",
       "      <td>NaN</td>\n",
       "      <td>NaN</td>\n",
       "      <td>NaN</td>\n",
       "      <td>NaN</td>\n",
       "      <td>NaN</td>\n",
       "      <td>NaN</td>\n",
       "      <td>...</td>\n",
       "      <td>NaN</td>\n",
       "      <td>NaN</td>\n",
       "      <td>NaN</td>\n",
       "      <td>NaN</td>\n",
       "      <td>NaN</td>\n",
       "      <td>NaN</td>\n",
       "      <td>NaN</td>\n",
       "      <td>NaN</td>\n",
       "      <td>NaN</td>\n",
       "      <td>NaN</td>\n",
       "    </tr>\n",
       "  </tbody>\n",
       "</table>\n",
       "<p>1048547 rows × 50 columns</p>\n",
       "</div>"
      ],
      "text/plain": [
       "                CASE_NUMBER CASE_STATUS      VISA_CLASS  \\\n",
       "0        I-200-16092-327771   WITHDRAWN            H-1B   \n",
       "1        I-203-17188-450729   WITHDRAWN  E-3 Australian   \n",
       "2        I-203-17229-572307   WITHDRAWN  E-3 Australian   \n",
       "3        I-203-17356-299648   WITHDRAWN  E-3 Australian   \n",
       "4        I-203-18008-577576   WITHDRAWN  E-3 Australian   \n",
       "...                     ...         ...             ...   \n",
       "1048542                 NaN         NaN             NaN   \n",
       "1048543                 NaN         NaN             NaN   \n",
       "1048544                 NaN         NaN             NaN   \n",
       "1048545                 NaN         NaN             NaN   \n",
       "1048546                 NaN         NaN             NaN   \n",
       "\n",
       "                           JOB_TITLE SOC_CODE  \\\n",
       "0        ASSOCIATE CREATIVE DIRECTOR  11-2011   \n",
       "1        ACCOUNT SUPERVISOR (MOTHER)  11-2011   \n",
       "2        EXECUTIVE CREATIVE DIRECTOR  11-2011   \n",
       "3            PROJECT MANAGEMENT LEAD  11-2011   \n",
       "4              CREATIVE DIRECTOR, UX  11-2011   \n",
       "...                              ...      ...   \n",
       "1048542                          NaN      NaN   \n",
       "1048543                          NaN      NaN   \n",
       "1048544                          NaN      NaN   \n",
       "1048545                          NaN      NaN   \n",
       "1048546                          NaN      NaN   \n",
       "\n",
       "                                   SOC_TITLE FULL_TIME_POSITION  \\\n",
       "0        ADVERTISING AND PROMOTIONS MANAGERS                  Y   \n",
       "1        ADVERTISING AND PROMOTIONS MANAGERS                  Y   \n",
       "2        ADVERTISING AND PROMOTIONS MANAGERS                  Y   \n",
       "3        ADVERTISING AND PROMOTIONS MANAGERS                  Y   \n",
       "4        ADVERTISING AND PROMOTIONS MANAGERS                  Y   \n",
       "...                                      ...                ...   \n",
       "1048542                                  NaN                NaN   \n",
       "1048543                                  NaN                NaN   \n",
       "1048544                                  NaN                NaN   \n",
       "1048545                                  NaN                NaN   \n",
       "1048546                                  NaN                NaN   \n",
       "\n",
       "         TOTAL_WORKER_POSITIONS NEW_EMPLOYMENT CONTINUED_EMPLOYMENT  ...  \\\n",
       "0                           1.0              0                    1  ...   \n",
       "1                           1.0              0                    1  ...   \n",
       "2                           1.0              0                    0  ...   \n",
       "3                           1.0              0                    0  ...   \n",
       "4                           1.0              0                    0  ...   \n",
       "...                         ...            ...                  ...  ...   \n",
       "1048542                     NaN            NaN                  NaN  ...   \n",
       "1048543                     NaN            NaN                  NaN  ...   \n",
       "1048544                     NaN            NaN                  NaN  ...   \n",
       "1048545                     NaN            NaN                  NaN  ...   \n",
       "1048546                     NaN            NaN                  NaN  ...   \n",
       "\n",
       "         WAGE_UNIT_OF_PAY_8  SECONDARY_ENTITY_9  WAGE_RATE_OF_PAY_FROM_9  \\\n",
       "0                       NaN                 NaN                      NaN   \n",
       "1                       NaN                 NaN                      NaN   \n",
       "2                       NaN                 NaN                      NaN   \n",
       "3                       NaN                 NaN                      NaN   \n",
       "4                       NaN                 NaN                      NaN   \n",
       "...                     ...                 ...                      ...   \n",
       "1048542                 NaN                 NaN                      NaN   \n",
       "1048543                 NaN                 NaN                      NaN   \n",
       "1048544                 NaN                 NaN                      NaN   \n",
       "1048545                 NaN                 NaN                      NaN   \n",
       "1048546                 NaN                 NaN                      NaN   \n",
       "\n",
       "         WAGE_UNIT_OF_PAY_9 SECONDARY_ENTITY_10  WAGE_RATE_OF_PAY_FROM_10  \\\n",
       "0                       NaN                 NaN                       NaN   \n",
       "1                       NaN                 NaN                       NaN   \n",
       "2                       NaN                 NaN                       NaN   \n",
       "3                       NaN                 NaN                       NaN   \n",
       "4                       NaN                 NaN                       NaN   \n",
       "...                     ...                 ...                       ...   \n",
       "1048542                 NaN                 NaN                       NaN   \n",
       "1048543                 NaN                 NaN                       NaN   \n",
       "1048544                 NaN                 NaN                       NaN   \n",
       "1048545                 NaN                 NaN                       NaN   \n",
       "1048546                 NaN                 NaN                       NaN   \n",
       "\n",
       "        WAGE_UNIT_OF_PAY_10 H-1B_DEPENDENT WILLFUL_VIOLATOR SUPPORT_H1B  \n",
       "0                       NaN              N                N         NaN  \n",
       "1                       NaN            NaN              NaN         NaN  \n",
       "2                       NaN            NaN              NaN         NaN  \n",
       "3                       NaN            NaN              NaN         NaN  \n",
       "4                       NaN            NaN              NaN         NaN  \n",
       "...                     ...            ...              ...         ...  \n",
       "1048542                 NaN            NaN              NaN         NaN  \n",
       "1048543                 NaN            NaN              NaN         NaN  \n",
       "1048544                 NaN            NaN              NaN         NaN  \n",
       "1048545                 NaN            NaN              NaN         NaN  \n",
       "1048546                 NaN            NaN              NaN         NaN  \n",
       "\n",
       "[1048547 rows x 50 columns]"
      ]
     },
     "execution_count": 62,
     "metadata": {},
     "output_type": "execute_result"
    }
   ],
   "source": [
    "visa_data"
   ]
  },
  {
   "cell_type": "code",
   "execution_count": 63,
   "metadata": {
    "pycharm": {
     "name": "#%%\n"
    }
   },
   "outputs": [],
   "source": [
    "#Only H-1B Visa class is considered. Rest all other visa classes are removed\n",
    "visa_data.drop(visa_data[visa_data['VISA_CLASS']=='E-3 Australian'].index, inplace=True)\n",
    "visa_data.drop(visa_data[visa_data['VISA_CLASS']=='H-1B1 Singapore'].index, inplace=True)\n",
    "visa_data.drop(visa_data[visa_data['VISA_CLASS']=='H-1B1 Chile'].index, inplace=True)\n",
    "\n",
    "#Dropped the rows which consists null values in the \"Visa_class\"\n",
    "visa_data.drop(visa_data[visa_data['VISA_CLASS'].isnull()].index, inplace=True)"
   ]
  },
  {
   "cell_type": "code",
   "execution_count": 64,
   "metadata": {
    "pycharm": {
     "name": "#%%\n"
    }
   },
   "outputs": [],
   "source": [
    "#Dropped the rows which consists of either \"Withdrawn\" or \"Cerified-Withdrawn\" as \"Case_Status\"\n",
    "#Replaced \"Certified\" as 1 and \"Denied\" as 0\n",
    "visa_data.drop(visa_data[visa_data['CASE_STATUS']=='WITHDRAWN'].index, inplace=True)\n",
    "visa_data.drop(visa_data[visa_data['CASE_STATUS']=='CERTIFIED-WITHDRAWN'].index, inplace=True)\n",
    "visa_data['CASE_STATUS'].replace({'CERTIFIED':1, 'DENIED':0}, inplace=True)"
   ]
  },
  {
   "cell_type": "markdown",
   "metadata": {},
   "source": [
    "## Handling missing values and incorrect data"
   ]
  },
  {
   "cell_type": "code",
   "execution_count": 65,
   "metadata": {
    "pycharm": {
     "name": "#%%\n"
    }
   },
   "outputs": [],
   "source": [
    "# Tried checking if any Case_Number is in the wrong format\n",
    "visa_data[visa_data['CASE_NUMBER'].str.match(\"I-[0-9][0-9][0-9]-[0-9][0-9][0-9][0-9][0-9]-[0-9][0-9][0-9][0-9][0-9][0-9]\")==False].index #No anamolies found\n",
    "\n",
    "# Tried checking if any SOC_CODE is in the wrong format\n",
    "visa_data[visa_data['SOC_CODE'].str.match(\"[0-9][0-9]-[0-9][0-9][0-9][0-9]\")==False].index #found anamoly\n",
    "visa_data.at[664611, 'SOC_CODE'], visa_data.at[664611, 'SOC_TITLE'] = visa_data.at[664611, 'SOC_TITLE'], visa_data.at[664611, 'SOC_CODE'] #Resolved it"
   ]
  },
  {
   "cell_type": "code",
   "execution_count": 66,
   "metadata": {
    "pycharm": {
     "name": "#%%\n"
    }
   },
   "outputs": [],
   "source": [
    "# No SOC_CODE and SOC_TITLE was there for the below four cell indexes.\n",
    "# Added SOC_Code and SOC_Title to the below four cells by using their Job_Title\n",
    "visa_data.at[664612, 'SOC_CODE'], visa_data.at[664612, 'SOC_TITLE']='15-1132', 'SOFTWARE DEVELOPERS, APPLICATIONS'\n",
    "visa_data.at[664614, 'SOC_CODE'], visa_data.at[664614, 'SOC_TITLE']='15-1132', 'SOFTWARE DEVELOPERS, APPLICATIONS'\n",
    "\n",
    "visa_data.at[664613, 'SOC_CODE'], visa_data.at[664613, 'SOC_TITLE']='15-1121', 'COMPUTER SYSTEMS ANALYSTS'\n",
    "visa_data.at[664615, 'SOC_CODE'], visa_data.at[664615, 'SOC_TITLE']='15-1121', 'COMPUTER SYSTEMS ANALYSTS'"
   ]
  },
  {
   "cell_type": "code",
   "execution_count": 67,
   "metadata": {
    "pycharm": {
     "name": "#%%\n"
    }
   },
   "outputs": [
    {
     "data": {
      "text/plain": [
       "Int64Index([], dtype='int64')"
      ]
     },
     "execution_count": 67,
     "metadata": {},
     "output_type": "execute_result"
    }
   ],
   "source": [
    "# Tried checking for null values in 'FULL_TIME_POSITION' column.\n",
    "visa_data[visa_data['FULL_TIME_POSITION'].str.match(\"Y|N\")==False].index"
   ]
  },
  {
   "cell_type": "code",
   "execution_count": 68,
   "metadata": {
    "pycharm": {
     "name": "#%%\n"
    }
   },
   "outputs": [],
   "source": [
    "# Tried checking for null values in 'NEW_CONCURRENT_EMPLOYMENT' column.\n",
    "visa_data[visa_data['NEW_CONCURRENT_EMPLOYMENT'].isnull()].index # null value found\n",
    "visa_data.drop(307174, inplace=True) # resolved it"
   ]
  },
  {
   "cell_type": "code",
   "execution_count": 69,
   "metadata": {
    "pycharm": {
     "name": "#%%\n"
    }
   },
   "outputs": [],
   "source": [
    "# Tried checking for null values in ''CHANGE_EMPLOYER'' column.\n",
    "visa_data[visa_data['CHANGE_EMPLOYER'].isnull()].index #no anamolies\n",
    "\n",
    "# Tried checking for null values in 'AMENDED_PETITION' column.\n",
    "visa_data[visa_data['AMENDED_PETITION'].isnull()].index #no anamolies\n",
    "\n",
    "# Tried checking for null values in 'EMPLOYER_NAME' column.\n",
    "visa_data[visa_data['EMPLOYER_NAME'].isnull()].index #null value found\n",
    "visa_data.drop(visa_data[visa_data['EMPLOYER_NAME'].isnull()].index, inplace=True)"
   ]
  },
  {
   "cell_type": "code",
   "execution_count": 71,
   "metadata": {
    "pycharm": {
     "name": "#%%\n"
    }
   },
   "outputs": [],
   "source": [
    "# Tried checking for null values in ''AGENT_REPRESENTING_EMPLOYER'' column.\n",
    "visa_data[visa_data['AGENT_REPRESENTING_EMPLOYER'].isnull()].index #found null values\n",
    "visa_data.drop(visa_data[visa_data['AGENT_REPRESENTING_EMPLOYER'].isnull()].index, inplace=True) #resolved it"
   ]
  },
  {
   "cell_type": "code",
   "execution_count": 72,
   "metadata": {
    "pycharm": {
     "name": "#%%\n"
    }
   },
   "outputs": [],
   "source": [
    "# converted cell values from string to float  in \"CONTINUED_EMPLOYMENT\" column.\n",
    "visa_data[\"CONTINUED_EMPLOYMENT\"] = visa_data[\"CONTINUED_EMPLOYMENT\"].astype(float, copy=True, errors='ignore')"
   ]
  },
  {
   "cell_type": "code",
   "execution_count": 73,
   "metadata": {
    "pycharm": {
     "name": "#%%\n"
    }
   },
   "outputs": [],
   "source": [
    "a=['SECONDARY_ENTITY_1', 'SECONDARY_ENTITY_2', 'SECONDARY_ENTITY_3', 'SECONDARY_ENTITY_4', 'SECONDARY_ENTITY_5', 'SECONDARY_ENTITY_6', 'SECONDARY_ENTITY_7','SECONDARY_ENTITY_8', 'SECONDARY_ENTITY_9', 'SECONDARY_ENTITY_10']\n",
    "\n",
    "b=['WAGE_UNIT_OF_PAY_1', 'WAGE_UNIT_OF_PAY_2', 'WAGE_UNIT_OF_PAY_3', 'WAGE_UNIT_OF_PAY_4', 'WAGE_UNIT_OF_PAY_5', 'WAGE_UNIT_OF_PAY_6', 'WAGE_UNIT_OF_PAY_7', 'WAGE_UNIT_OF_PAY_8', 'WAGE_UNIT_OF_PAY_9', 'WAGE_UNIT_OF_PAY_10']\n",
    "\n",
    "c=['WAGE_RATE_OF_PAY_FROM_1', 'WAGE_RATE_OF_PAY_FROM_2', 'WAGE_RATE_OF_PAY_FROM_3', 'WAGE_RATE_OF_PAY_FROM_4', 'WAGE_RATE_OF_PAY_FROM_5', 'WAGE_RATE_OF_PAY_FROM_6', 'WAGE_RATE_OF_PAY_FROM_7', 'WAGE_RATE_OF_PAY_FROM_8', 'WAGE_RATE_OF_PAY_FROM_9','WAGE_RATE_OF_PAY_FROM_10']"
   ]
  },
  {
   "cell_type": "code",
   "execution_count": 74,
   "metadata": {
    "pycharm": {
     "name": "#%%\n"
    }
   },
   "outputs": [],
   "source": [
    "# The Secondary_entity will be 'Y', if the 'WAGE_RATE_OF_PAY_FROM' and 'WAGE_UNIT_OF_PAY' is not null.\n",
    "for i in range(10):\n",
    "    visa_data.loc[(visa_data[c[i]].notnull()) & (visa_data[b[i]].notnull()) &(visa_data[a[i]].isnull()), a[i]] = \"Y\""
   ]
  },
  {
   "cell_type": "code",
   "execution_count": 75,
   "metadata": {
    "pycharm": {
     "name": "#%%\n"
    }
   },
   "outputs": [],
   "source": [
    "#The i'th secondary entity will be 'N', if (i+1), (i+2), ..., (i+n)th secondary entities are null\n",
    "\n",
    "def removenull(m):\n",
    "    for i in range(m,10): p=visa_data[a[i]].isnull() & visa_data[b[i]].isnull() & visa_data[c[i]].isnull()\n",
    "    return p\n",
    "\n",
    "for i in range(10): visa_data.loc[removenull(i), a[i]]='N'\n",
    "for i in range(1, 10): visa_data.loc[removenull(i), a[i]]='N'\n",
    "for i in range(2, 10): visa_data.loc[removenull(i), a[i]]='N'\n",
    "for i in range(3, 10): visa_data.loc[removenull(i), a[i]]='N'\n",
    "for i in range(4, 10): visa_data.loc[removenull(i), a[i]]='N'\n",
    "for i in range(5, 10): visa_data.loc[removenull(i), a[i]]='N'\n",
    "for i in range(6, 10): visa_data.loc[removenull(i), a[i]]='N'\n",
    "for i in range(7, 10): visa_data.loc[removenull(i), a[i]]='N'\n",
    "for i in range(8, 10): visa_data.loc[removenull(i), a[i]]='N'\n",
    "for i in range(9, 10): visa_data.loc[removenull(i), a[i]]='N'"
   ]
  },
  {
   "cell_type": "code",
   "execution_count": 76,
   "metadata": {
    "pycharm": {
     "name": "#%%\n"
    }
   },
   "outputs": [
    {
     "name": "stdout",
     "output_type": "stream",
     "text": [
      "4\n",
      "5\n",
      "7\n",
      "8\n"
     ]
    }
   ],
   "source": [
    "# The seconday_entity will be 'Y', if 'Wage_unit_of_pay' and 'wage_unit_of_pay_from' are not null.\n",
    "for i in range(10):\n",
    "    visa_data.loc[(visa_data[c[i]].notnull()) & (visa_data[a[i]]=='N'), a[i]]='Y'\n",
    "\n",
    "# Finding missing values in the wage_unit_of_pay column.\n",
    "for i in range(10):\n",
    "    if len(visa_data[(visa_data[c[i]].notnull()) & (visa_data[b[i]].isnull())])>0:\n",
    "        print(i+1)\n",
    "## Found anamolies at 4th, 5th, 7th, 8th iteration\n",
    "x=[4,5,7,8]\n",
    "for i in x:\n",
    "    visa_data.loc[(visa_data[c[i-1]].notnull()) & (visa_data[b[i-1]].isnull()), b[i-1]]='Year'\n",
    "## Resolved it"
   ]
  },
  {
   "cell_type": "markdown",
   "metadata": {},
   "source": [
    "### Converting values into float"
   ]
  },
  {
   "cell_type": "code",
   "execution_count": 77,
   "metadata": {
    "pycharm": {
     "name": "#%%\n"
    }
   },
   "outputs": [],
   "source": [
    "#Removing dollar, and comma signs\n",
    "#And converting it to float values\n",
    "\n",
    "for i in range(10):\n",
    "    visa_data[c[i]]=visa_data[c[i]].replace({'\\$': '', ',': ''}, regex=True)\n",
    "    visa_data[c[i]]=visa_data[c[i]].astype(float)\n"
   ]
  },
  {
   "cell_type": "code",
   "execution_count": 78,
   "metadata": {
    "pycharm": {
     "name": "#%%\n"
    }
   },
   "outputs": [],
   "source": [
    "# Tried checking for null values in the 'H-1B_DEPENDENT' column.\n",
    "\n",
    "visa_data['H-1B_DEPENDENT'].isnull().sum() #found null value\n",
    "visa_data.drop(visa_data[visa_data['H-1B_DEPENDENT'].isnull()].index, inplace=True)\n",
    "visa_data.drop(231476, inplace=True)"
   ]
  },
  {
   "cell_type": "markdown",
   "metadata": {},
   "source": [
    "### Observing Case_Status"
   ]
  },
  {
   "cell_type": "code",
   "execution_count": 79,
   "metadata": {
    "pycharm": {
     "name": "#%%\n"
    }
   },
   "outputs": [
    {
     "data": {
      "text/plain": [
       "<AxesSubplot:xlabel='CASE_STATUS', ylabel='count'>"
      ]
     },
     "execution_count": 79,
     "metadata": {},
     "output_type": "execute_result"
    },
    {
     "data": {
      "image/png": "[encoded data removed]",
      "text/plain": [
       "<Figure size 432x288 with 1 Axes>"
      ]
     },
     "metadata": {
      "needs_background": "light"
     },
     "output_type": "display_data"
    }
   ],
   "source": [
    "#By observing the below plot, we can conclude that the acceptance performace is very high.\n",
    "sns.countplot(x='CASE_STATUS', data=visa_data)"
   ]
  },
  {
   "cell_type": "markdown",
   "metadata": {},
   "source": [
    "### Data Encoding"
   ]
  },
  {
   "cell_type": "code",
   "execution_count": 80,
   "metadata": {
    "pycharm": {
     "name": "#%%\n"
    }
   },
   "outputs": [],
   "source": [
    "#A separate dataframe 'testing' is created\n",
    "#dummies were added in the place of string values\n",
    "visa_data['FULL_TIME_POSITION'].replace({'Y':1, 'N':0}, inplace=True)\n",
    "visa_data['H-1B_DEPENDENT'].replace({'Y':1, 'N':0}, inplace=True)\n",
    "visa_data['WILLFUL_VIOLATOR'].replace({'Y':1, 'N':0}, inplace=True)\n",
    "visa_data['AGENT_REPRESENTING_EMPLOYER'].replace({'Y':1, 'N':0}, inplace=True)\n",
    "\n",
    "# Representing Y as 1 and N as 0 in secondary_entity column.\n",
    "for i in range(10):\n",
    "    visa_data[a[i]].replace({'Y':1, 'N':0}, inplace=True)\n",
    "\n",
    "#reprsenting 'Hour':1, 'Week':2, 'Bi-Weekly':3, 'Month':4, 'Year':5 in wage_unit_of_pay column\n",
    "for i in range(10):\n",
    "    visa_data[b[i]].replace({'Hour':1, 'Week':2, 'Bi-Weekly':3, 'Month':4, 'Year':5}, inplace=True)\n",
    "\n",
    "\n",
    "le = LabelEncoder()\n",
    "visa_data.JOB_TITLE = le.fit_transform(visa_data.JOB_TITLE)\n",
    "visa_data.EMPLOYER_NAME = le.fit_transform(visa_data.EMPLOYER_NAME)\n",
    "visa_data.SOC_CODE = le.fit_transform(visa_data.SOC_CODE)\n",
    "visa_data.SOC_TITLE = le.fit_transform(visa_data.SOC_TITLE)\n",
    "visa_data.NAICS_CODE = le.fit_transform(visa_data.NAICS_CODE)\n",
    "visa_data.SUPPORT_H1B = le.fit_transform(visa_data.SUPPORT_H1B)\n",
    "\n",
    "testing = visa_data.copy(deep=True)\n",
    "\n",
    "sum_secondary_entity = testing[a[0]]\n",
    "for i in range(1,10):\n",
    "    sum_secondary_entity+=testing[a[i]]\n",
    "\n",
    "testing['SUM_SECONDARY_ENTITY'] = sum_secondary_entity"
   ]
  },
  {
   "cell_type": "markdown",
   "metadata": {},
   "source": [
    "## Removing Outliers"
   ]
  },
  {
   "cell_type": "code",
   "execution_count": 81,
   "metadata": {
    "pycharm": {
     "name": "#%%\n"
    }
   },
   "outputs": [],
   "source": [
    "def remove_outlier(col):\n",
    "    sorted(col)\n",
    "    Q1, Q3 = col.quantile([0.25, 0.75])\n",
    "    IQR = Q3 - Q1\n",
    "    lower_range = Q1 - (1.5*IQR)\n",
    "    upper_range = Q3 + (1.5*IQR)\n",
    "    return lower_range, upper_range"
   ]
  },
  {
   "cell_type": "code",
   "execution_count": 82,
   "metadata": {
    "pycharm": {
     "name": "#%%\n"
    }
   },
   "outputs": [],
   "source": [
    "# Removing outliers in salary\n",
    "for i in range(10):\n",
    "    lowincome, uppincome = remove_outlier(testing[c[i]])\n",
    "    testing[c[i]] = np.where(testing[c[i]]>uppincome, uppincome, testing[c[i]])\n",
    "    testing[c[i]] = np.where(testing[c[i]]<lowincome, lowincome, testing[c[i]])"
   ]
  },
  {
   "cell_type": "code",
   "execution_count": 83,
   "metadata": {
    "pycharm": {
     "name": "#%%\n"
    }
   },
   "outputs": [
    {
     "data": {
      "text/plain": [
       "<AxesSubplot:xlabel='CASE_STATUS', ylabel='AMENDED_PETITION'>"
      ]
     },
     "execution_count": 83,
     "metadata": {},
     "output_type": "execute_result"
    },
    {
     "data": {
      "image/png": "[encoded data removed]",
      "text/plain": [
       "<Figure size 432x288 with 1 Axes>"
      ]
     },
     "metadata": {
      "needs_background": "light"
     },
     "output_type": "display_data"
    }
   ],
   "source": [
    "sns.barplot(x='CASE_STATUS', y='AMENDED_PETITION', data=testing)"
   ]
  },
  {
   "cell_type": "code",
   "execution_count": 84,
   "metadata": {
    "pycharm": {
     "name": "#%%\n"
    }
   },
   "outputs": [
    {
     "data": {
      "text/plain": [
       "<AxesSubplot:>"
      ]
     },
     "execution_count": 84,
     "metadata": {},
     "output_type": "execute_result"
    },
    {
     "data": {
      "image/png": "[encoded data removed]",
      "text/plain": [
       "<Figure size 432x288 with 1 Axes>"
      ]
     },
     "metadata": {
      "needs_background": "light"
     },
     "output_type": "display_data"
    }
   ],
   "source": [
    "testing.boxplot('WAGE_RATE_OF_PAY_FROM_1')"
   ]
  },
  {
   "cell_type": "markdown",
   "metadata": {},
   "source": [
    "# Bar Plot"
   ]
  },
  {
   "cell_type": "code",
   "execution_count": 85,
   "metadata": {
    "pycharm": {
     "name": "#%%\n"
    }
   },
   "outputs": [
    {
     "data": {
      "image/png": "[encoded data removed]",
      "text/plain": [
       "<Figure size 1080x720 with 1 Axes>"
      ]
     },
     "metadata": {
      "needs_background": "light"
     },
     "output_type": "display_data"
    }
   ],
   "source": [
    "df_pivot = pd.pivot_table(\n",
    "    testing,\n",
    "    values=[\"FULL_TIME_POSITION\", \"TOTAL_WORKER_POSITIONS\", \"CHANGE_PREVIOUS_EMPLOYMENT\", \"NEW_CONCURRENT_EMPLOYMENT\", \"CHANGE_EMPLOYER\", \"AMENDED_PETITION\", \"AGENT_REPRESENTING_EMPLOYER\", \"H-1B_DEPENDENT\", \"WILLFUL_VIOLATOR\", \"SUM_SECONDARY_ENTITY\"],\n",
    "    index=\"CASE_STATUS\",\n",
    "    aggfunc=np.mean\n",
    ")\n",
    "\n",
    "ax = df_pivot.plot(kind=\"bar\")\n",
    "fig = ax.get_figure()\n",
    "fig.set_size_inches(15, 10)\n",
    "ax.set_xlabel(\"Decision\")\n",
    "plt.show()"
   ]
  },
  {
   "cell_type": "markdown",
   "metadata": {},
   "source": [
    "# Logistic Regression"
   ]
  },
  {
   "cell_type": "code",
   "execution_count": 87,
   "metadata": {
    "pycharm": {
     "name": "#%%\n"
    }
   },
   "outputs": [],
   "source": [
    "## Logistic Regression\n",
    "\n",
    "# For Logistic regression [19], we select the features [9] SECONDARY_ENTITY, AGENT_REPRESENTING_EMPLOYER, TOTAL_WORKERS, NEW_EMPLOYMENT, CONTINUED_EMPLOYMENT, CHANGE_PREVIOUS_EMPLOYMENT, NEW_CONCURRENT_EMPLOYMENT, CHANGE_EMPLOYER, AMENDED_PETITION,FULL_TIME_POSITION, H1B_DEPENDENT and WILLFUL_VIOLATOR. Probability of outcome (y) given by:\n",
    "\n",
    "x=testing.iloc[:, [6, 7, 10, 11, 12, 13, 16, 47, 48, 50]]\n",
    "y=testing['CASE_STATUS']\n",
    "\n",
    "x_train, x_test, y_train, y_test = train_test_split(x, y, test_size=0.7, random_state=75)\n",
    "\n",
    "logmodel = LogisticRegression()\n",
    "logmodel.fit(x_train, y_train)\n",
    "predictions = logmodel.predict(x_test)"
   ]
  },
  {
   "cell_type": "code",
   "execution_count": 88,
   "metadata": {
    "pycharm": {
     "name": "#%%\n"
    }
   },
   "outputs": [
    {
     "data": {
      "text/plain": [
       "array([[     1,   3590],\n",
       "       [     2, 405050]], dtype=int64)"
      ]
     },
     "execution_count": 88,
     "metadata": {},
     "output_type": "execute_result"
    }
   ],
   "source": [
    "confusion_matrix(y_test, predictions)"
   ]
  },
  {
   "cell_type": "code",
   "execution_count": 89,
   "metadata": {
    "pycharm": {
     "name": "#%%\n"
    }
   },
   "outputs": [
    {
     "data": {
      "text/plain": [
       "0.9912099314071207"
      ]
     },
     "execution_count": 89,
     "metadata": {},
     "output_type": "execute_result"
    }
   ],
   "source": [
    "#The accouracy is:\n",
    "accuracy_score(y_test, predictions)"
   ]
  },
  {
   "cell_type": "markdown",
   "metadata": {},
   "source": [
    "# Random Forest "
   ]
  },
  {
   "cell_type": "code",
   "execution_count": 90,
   "metadata": {
    "pycharm": {
     "name": "#%%\n"
    }
   },
   "outputs": [
    {
     "data": {
      "text/plain": [
       "0.6665740097289785"
      ]
     },
     "execution_count": 90,
     "metadata": {},
     "output_type": "execute_result"
    }
   ],
   "source": [
    "#Random Forest\n",
    "\n",
    "# For Random forest model, the model was generated using a 50% mix of approved and rejected cases. For this, entire rejected cases and randomly sampled equal count of approved cases was chosen.\n",
    "\n",
    "\n",
    "approved_cases = testing[testing['CASE_STATUS']==1]\n",
    "rejected_cases = testing[testing['CASE_STATUS']==0]\n",
    "\n",
    "rf_test_data = [rejected_cases, approved_cases.sample(len(rejected_cases))]\n",
    "rf_test_data = pd.concat(rf_test_data)\n",
    "\n",
    "x_train, x_test, y_train, y_test = train_test_split(rf_test_data.iloc[:, [3, 4, 5, 6, 7, 10, 11, 12, 13, 14, 15, 16, 47, 48, 49, 50]], rf_test_data['CASE_STATUS'], test_size=0.7, random_state=50 )\n",
    "\n",
    "model=RandomForestClassifier()\n",
    "model.fit(x_train, y_train)\n",
    "predictions = model.predict(x_test)\n",
    "accuracy_score(y_test, predictions)"
   ]
  },
  {
   "cell_type": "markdown",
   "metadata": {},
   "source": [
    "## Random forest Confusion matrix and Accuracy: "
   ]
  },
  {
   "cell_type": "code",
   "execution_count": 91,
   "metadata": {
    "pycharm": {
     "name": "#%%\n"
    }
   },
   "outputs": [
    {
     "data": {
      "text/plain": [
       "array([[2492, 1117],\n",
       "       [1282, 2304]], dtype=int64)"
      ]
     },
     "execution_count": 91,
     "metadata": {},
     "output_type": "execute_result"
    }
   ],
   "source": [
    "confusion_matrix(y_test, predictions)"
   ]
  }
 ],
 "metadata": {
  "kernelspec": {
   "display_name": "Python 3 (ipykernel)",
   "language": "python",
   "name": "python3"
  },
  "language_info": {
   "codemirror_mode": {
    "name": "ipython",
    "version": 3
   },
   "file_extension": ".py",
   "mimetype": "text/x-python",
   "name": "python",
   "nbconvert_exporter": "python",
   "pygments_lexer": "ipython3",
   "version": "3.9.10"
  }
 },
 "nbformat": 4,
 "nbformat_minor": 1
}
